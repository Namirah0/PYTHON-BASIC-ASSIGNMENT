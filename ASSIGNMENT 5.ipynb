{
 "cells": [
  {
   "cell_type": "code",
   "execution_count": null,
   "id": "8fc32227",
   "metadata": {},
   "outputs": [],
   "source": [
    "1. What does an empty dictionarys code look like?\n",
    "\n",
    "ANS: An empty dictionary is often represented by two empty curly brackets\n",
    "d = {} or d = dict()"
   ]
  },
  {
   "cell_type": "code",
   "execution_count": 1,
   "id": "5c2f5d75",
   "metadata": {},
   "outputs": [
    {
     "name": "stdout",
     "output_type": "stream",
     "text": [
      "{}\n",
      "Length: 0\n",
      "<class 'dict'>\n"
     ]
    }
   ],
   "source": [
    "# Python3 code to demonstrate use of\n",
    "# {} symbol to initialize dictionary\n",
    "emptyDict = {}\n",
    " \n",
    "# print dictionary\n",
    "print(emptyDict)\n",
    " \n",
    "# print length of dictionary\n",
    "print(\"Length:\", len(emptyDict))\n",
    " \n",
    "# print type\n",
    "print(type(emptyDict))"
   ]
  },
  {
   "cell_type": "code",
   "execution_count": null,
   "id": "9ac834c3",
   "metadata": {},
   "outputs": [],
   "source": [
    "2.What is the value of dictionary value with key 'foo' and the value 42 ?\n",
    "\n",
    "ANS: {'foo':42}"
   ]
  },
  {
   "cell_type": "code",
   "execution_count": null,
   "id": "be478f3b",
   "metadata": {},
   "outputs": [],
   "source": [
    "3.What is the most significant distinction between a dictionary and a list?\n",
    "\n",
    "ANS:  Dictionaries are represented by {} where as listed are represented by []. The Items stored in a dictionary \n",
    "      are Unordered , while the items in a list are ordered.\n",
    "    \n",
    "    Lists are just like the arrays, declared in other languages. Lists need not be homogeneous always which makes it a \n",
    "    most powerful tool in Python. A single list may contain DataTypes like Integers, Strings, as well as Objects. Lists \n",
    "    are mutable, and hence, they can be altered even after their creation.\n",
    "    \n",
    "    Dictionary in Python on the other hand is an unordered collection of data values, used to store data values like a map, \n",
    "    which unlike other Data Types that hold only single value as an element, Dictionary holds key:value pair. Key-value is \n",
    "    provided in the dictionary to make it more optimized. Each key-value pair in a Dictionary is separated by a colon :, \n",
    "    whereas each key is separated by a ‘comma’."
   ]
  },
  {
   "cell_type": "code",
   "execution_count": 3,
   "id": "608d59a6",
   "metadata": {},
   "outputs": [
    {
     "name": "stdout",
     "output_type": "stream",
     "text": [
      "Dictionary with the use of Integer Keys: \n",
      "{1: 'Anu', 2: 'Mnth', 3: 'Namirah'}\n",
      "List containing multiple values: \n",
      "Anu\n",
      "ABC\n"
     ]
    }
   ],
   "source": [
    "#Dictionary\n",
    "Dict = {1: 'Anu', 2: 'Mnth', 3: 'Namirah'}\n",
    "print(\"Dictionary with the use of Integer Keys: \")\n",
    "print(Dict)\n",
    "\n",
    "#List\n",
    "List = [\"Anu\", \"Snm\", \"ABC\"]\n",
    "print(\"List containing multiple values: \")\n",
    "print(List[0]) \n",
    "print(List[2])"
   ]
  },
  {
   "cell_type": "code",
   "execution_count": null,
   "id": "50450447",
   "metadata": {},
   "outputs": [],
   "source": [
    "4.What happens if you try to access spam ['foo'] if spam is {'bar':100} ?\n",
    "ANS: we will get a keyError KeyError: 'foo'"
   ]
  },
  {
   "cell_type": "code",
   "execution_count": 4,
   "id": "2fddc992",
   "metadata": {},
   "outputs": [
    {
     "ename": "KeyError",
     "evalue": "'foo'",
     "output_type": "error",
     "traceback": [
      "\u001b[1;31m---------------------------------------------------------------------------\u001b[0m",
      "\u001b[1;31mKeyError\u001b[0m                                  Traceback (most recent call last)",
      "\u001b[1;32m~\\AppData\\Local\\Temp/ipykernel_704/1078832278.py\u001b[0m in \u001b[0;36m<module>\u001b[1;34m\u001b[0m\n\u001b[0;32m      1\u001b[0m \u001b[0mspam\u001b[0m \u001b[1;33m=\u001b[0m \u001b[1;33m{\u001b[0m\u001b[1;34m'bar'\u001b[0m\u001b[1;33m:\u001b[0m \u001b[1;36m100\u001b[0m\u001b[1;33m}\u001b[0m\u001b[1;33m\u001b[0m\u001b[1;33m\u001b[0m\u001b[0m\n\u001b[1;32m----> 2\u001b[1;33m \u001b[0mspam\u001b[0m \u001b[1;33m[\u001b[0m\u001b[1;34m'foo'\u001b[0m\u001b[1;33m]\u001b[0m\u001b[1;33m\u001b[0m\u001b[1;33m\u001b[0m\u001b[0m\n\u001b[0m",
      "\u001b[1;31mKeyError\u001b[0m: 'foo'"
     ]
    }
   ],
   "source": [
    "spam = {'bar': 100}\n",
    "spam ['foo']"
   ]
  },
  {
   "cell_type": "code",
   "execution_count": null,
   "id": "e3447779",
   "metadata": {},
   "outputs": [],
   "source": [
    "5.if a dictionary is stored in spam,what is the difference between the expressions 'cat' in spam and 'cat' in spam.keys() ?\n",
    "ANS:  There is no difference . The operator checks whether a value exits as a key in the dictionary or not."
   ]
  },
  {
   "cell_type": "code",
   "execution_count": null,
   "id": "f7368c4b",
   "metadata": {},
   "outputs": [],
   "source": [
    "6.if a dictionary is stored in spam,what is the difference between the expressions 'cat' in spam and 'cat' in spam.values() ?\n",
    "ANS: 'cat' in spam checks whether there is a 'cat' key in the dictionary, while 'cat' in spam.values() checks whether \n",
    "    there is a value 'cat' for one of the keys in spam."
   ]
  },
  {
   "cell_type": "code",
   "execution_count": null,
   "id": "49658f42",
   "metadata": {},
   "outputs": [],
   "source": [
    "7.what is a shortcut for the following code ?\n",
    "if 'color' not in spam:\n",
    "    spam['color'] ='black'\n",
    "ANS: spam.setdefault('color','black')"
   ]
  },
  {
   "cell_type": "code",
   "execution_count": 5,
   "id": "c92e932f",
   "metadata": {},
   "outputs": [
    {
     "data": {
      "text/plain": [
       "'black'"
      ]
     },
     "execution_count": 5,
     "metadata": {},
     "output_type": "execute_result"
    }
   ],
   "source": [
    "if 'color' not in spam: spam['color'] ='black'\n",
    "\n",
    "spam.setdefault('color','black')"
   ]
  },
  {
   "cell_type": "code",
   "execution_count": null,
   "id": "1ffc57ad",
   "metadata": {},
   "outputs": [],
   "source": [
    "8.How do you 'pretty print' dictionary values using which modules and function ?\n",
    "\n",
    "ANS:  we can pretty print a dictionary using three functions\n",
    "\n",
    "a.by using pprint() function of pprint module\n",
    "Note: pprint() function doesnot prettify nested dictionaries\n",
    "b.by using dumps() method of json module\n",
    "c.by using dumps() method of yaml module"
   ]
  },
  {
   "cell_type": "code",
   "execution_count": 6,
   "id": "c311e410",
   "metadata": {},
   "outputs": [
    {
     "name": "stdout",
     "output_type": "stream",
     "text": [
      "Printing using print() function\n",
      " [{'Name': 'Namirah', 'Age': '24', 'Residence': {'Country': 'Dubai', 'City': 'Sarjha'}}, {'Name': 'Ahmed', 'Age': '23', 'Residence': {'Country': 'Spain', 'City': 'Madrid'}}, {'Name': 'Mnth', 'Age': '26', 'Residence': {'Country': 'UK', 'City': 'England'}}, {'Name': 'Abc', 'Age': '64', 'Residence': {'Country': 'Japan', 'City': 'Osaka'}}]\n",
      "----------------------------------------------------------------------\n",
      "Printing using pprint() funciton\n",
      "[{'Age': '24',\n",
      "  'Name': 'Namirah',\n",
      "  'Residence': {'City': 'Sarjha', 'Country': 'Dubai'}},\n",
      " {'Age': '23',\n",
      "  'Name': 'Ahmed',\n",
      "  'Residence': {'City': 'Madrid', 'Country': 'Spain'}},\n",
      " {'Age': '26',\n",
      "  'Name': 'Mnth',\n",
      "  'Residence': {'City': 'England', 'Country': 'UK'}},\n",
      " {'Age': '64',\n",
      "  'Name': 'Abc',\n",
      "  'Residence': {'City': 'Osaka', 'Country': 'Japan'}}]\n",
      "----------------------------------------------------------------------\n",
      "Printing using dumps() method\n",
      " [\n",
      "    {\n",
      "        \"Name\": \"Namirah\",\n",
      "        \"Age\": \"24\",\n",
      "        \"Residence\": {\n",
      "            \"Country\": \"Dubai\",\n",
      "            \"City\": \"Sarjha\"\n",
      "        }\n",
      "    },\n",
      "    {\n",
      "        \"Name\": \"Ahmed\",\n",
      "        \"Age\": \"23\",\n",
      "        \"Residence\": {\n",
      "            \"Country\": \"Spain\",\n",
      "            \"City\": \"Madrid\"\n",
      "        }\n",
      "    },\n",
      "    {\n",
      "        \"Name\": \"Mnth\",\n",
      "        \"Age\": \"26\",\n",
      "        \"Residence\": {\n",
      "            \"Country\": \"UK\",\n",
      "            \"City\": \"England\"\n",
      "        }\n",
      "    },\n",
      "    {\n",
      "        \"Name\": \"Abc\",\n",
      "        \"Age\": \"64\",\n",
      "        \"Residence\": {\n",
      "            \"Country\": \"Japan\",\n",
      "            \"City\": \"Osaka\"\n",
      "        }\n",
      "    }\n",
      "]\n",
      "----------------------------------------------------------------------\n",
      "Printing using dump() method\n",
      " - Age: '24'\n",
      "  Name: Namirah\n",
      "  Residence:\n",
      "    City: Sarjha\n",
      "    Country: Dubai\n",
      "- Age: '23'\n",
      "  Name: Ahmed\n",
      "  Residence:\n",
      "    City: Madrid\n",
      "    Country: Spain\n",
      "- Age: '26'\n",
      "  Name: Mnth\n",
      "  Residence:\n",
      "    City: England\n",
      "    Country: UK\n",
      "- Age: '64'\n",
      "  Name: Abc\n",
      "  Residence:\n",
      "    City: Osaka\n",
      "    Country: Japan\n",
      "\n"
     ]
    }
   ],
   "source": [
    "ndict = [\n",
    "  {'Name': 'Namirah', 'Age': '24', 'Residence': {'Country':'Dubai', 'City': 'Sarjha'}},\n",
    "  {'Name': 'Ahmed', 'Age': '23', 'Residence': {'Country':'Spain', 'City': 'Madrid'}},\n",
    "  {'Name': 'Mnth', 'Age': '26', 'Residence': {'Country':'UK', 'City': 'England'}},\n",
    "  {'Name': 'Abc', 'Age': '64', 'Residence': {'Country':'Japan', 'City': 'Osaka'}}\n",
    "]\n",
    "\n",
    "print('Printing using print() function\\n',ndict)\n",
    "print('-'*70)\n",
    "import pprint\n",
    "print('Printing using pprint() funciton')\n",
    "pprint.pprint(ndict)\n",
    "print('-'*70)\n",
    "import json\n",
    "dump = json.dumps(ndict, indent=4)\n",
    "print('Printing using dumps() method\\n', dump)\n",
    "print('-'*70)\n",
    "import yaml\n",
    "dump = yaml.dump(ndict)\n",
    "print('Printing using dump() method\\n', dump)"
   ]
  },
  {
   "cell_type": "code",
   "execution_count": null,
   "id": "dff52d75",
   "metadata": {},
   "outputs": [],
   "source": []
  }
 ],
 "metadata": {
  "kernelspec": {
   "display_name": "Python 3 (ipykernel)",
   "language": "python",
   "name": "python3"
  },
  "language_info": {
   "codemirror_mode": {
    "name": "ipython",
    "version": 3
   },
   "file_extension": ".py",
   "mimetype": "text/x-python",
   "name": "python",
   "nbconvert_exporter": "python",
   "pygments_lexer": "ipython3",
   "version": "3.9.7"
  }
 },
 "nbformat": 4,
 "nbformat_minor": 5
}
