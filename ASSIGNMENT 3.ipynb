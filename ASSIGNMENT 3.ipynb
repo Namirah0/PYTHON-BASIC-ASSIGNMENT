{
 "cells": [
  {
   "cell_type": "code",
   "execution_count": null,
   "id": "4ee506e0",
   "metadata": {},
   "outputs": [],
   "source": [
    "1. Why are functions advantageous to have in your programs?\n",
    "\n",
    "ANS:Below are the advantages of functions in programming:\n",
    "\n",
    "a.Functions reduce the need for duplicate code. This makes programs shorter, easier to read, and easier to update. \n",
    "The main advantage of functions is code Reusability.\n",
    "b.Increases program readability.\n",
    "c.Divide a complex problem into simpler ones.\n",
    "d.Reduces chances of error.\n",
    "e.Modifying a program becomes easier by using function"
   ]
  },
  {
   "cell_type": "code",
   "execution_count": null,
   "id": "da8d65bb",
   "metadata": {},
   "outputs": [],
   "source": [
    "2. When does the code in a function run: when it&#39;s specified or when it&#39;s called?\n",
    "    \n",
    "ANS: The code in a function executes when the function is called, not when the function is specified. When a \n",
    "    function is \"called\" the program \"leaves\" the current section of code and begins to execute the first line inside \n",
    "    the function. Example is mentioned below:"
   ]
  },
  {
   "cell_type": "code",
   "execution_count": 1,
   "id": "1c42e475",
   "metadata": {},
   "outputs": [
    {
     "name": "stdout",
     "output_type": "stream",
     "text": [
      "Namirah iNeuron\n",
      "Mnth iNeuron\n",
      "Snm iNeuron\n"
     ]
    }
   ],
   "source": [
    "def my_function(fname):\n",
    "  print(fname + \" iNeuron\")\n",
    "\n",
    "my_function(\"Namirah\")\n",
    "my_function(\"Mnth\")\n",
    "my_function(\"Snm\")"
   ]
  },
  {
   "cell_type": "code",
   "execution_count": null,
   "id": "a2fa6e06",
   "metadata": {},
   "outputs": [],
   "source": [
    "3. What statement creates a function?\n",
    "\n",
    "ANS: The def statement defines a function\n",
    "    Syntax of Function:\n",
    "def function_name(parameters):\n",
    "    \"\"\"doc string\"\"\"          \n",
    "    -----function body-----\n",
    "    -----function body-----\n",
    "    return value\n"
   ]
  },
  {
   "cell_type": "code",
   "execution_count": 3,
   "id": "00a3dadd",
   "metadata": {},
   "outputs": [
    {
     "name": "stdout",
     "output_type": "stream",
     "text": [
      "Namirah iNeuron\n",
      "Mnth iNeuron\n",
      "Snm iNeuron\n"
     ]
    }
   ],
   "source": [
    "def my_function(fname):\n",
    "  print(fname + \" iNeuron\")\n",
    "\n",
    "my_function(\"Namirah\")\n",
    "my_function(\"Mnth\")\n",
    "my_function(\"Snm\")"
   ]
  },
  {
   "cell_type": "code",
   "execution_count": null,
   "id": "efc6014b",
   "metadata": {},
   "outputs": [],
   "source": [
    "4. What is the difference between a function and a function call?\n",
    "\n",
    "ANS: A function is a block of code that does a particular operation and returns a result. It usually accepts inputs as \n",
    "    parameters and returns a result. The parameters are not mandatory. A function call is the code used to pass control \n",
    "    to a function."
   ]
  },
  {
   "cell_type": "code",
   "execution_count": 4,
   "id": "ec52a4d9",
   "metadata": {},
   "outputs": [
    {
     "data": {
      "text/plain": [
       "16"
      ]
     },
     "execution_count": 4,
     "metadata": {},
     "output_type": "execute_result"
    }
   ],
   "source": [
    "#Function\n",
    "def square(x):\n",
    "  \treturn x*x\n",
    "#Function Call\n",
    "(square(4))"
   ]
  },
  {
   "cell_type": "code",
   "execution_count": null,
   "id": "fbad8382",
   "metadata": {},
   "outputs": [],
   "source": [
    "5. How many global scopes are there in a Python program? How many local scopes?\n",
    "\n",
    "ANS: There is one global scope, and a local scope is created whenever a function is called. A variable created inside a \n",
    "    function belongs to the local scope of that function, and can only be used inside that function whereas A variable \n",
    "    created in the main body of the Python code is a global variable and belongs to the global scope."
   ]
  },
  {
   "cell_type": "code",
   "execution_count": 5,
   "id": "8f0eeac2",
   "metadata": {},
   "outputs": [
    {
     "name": "stdout",
     "output_type": "stream",
     "text": [
      "300\n"
     ]
    }
   ],
   "source": [
    "#Example of Local Scope\n",
    "def myfunc():\n",
    "  x = 300\n",
    "  def myinnerfunc():\n",
    "    print(x)\n",
    "  myinnerfunc()\n",
    "\n",
    "myfunc() "
   ]
  },
  {
   "cell_type": "code",
   "execution_count": 6,
   "id": "4f2db093",
   "metadata": {},
   "outputs": [
    {
     "name": "stdout",
     "output_type": "stream",
     "text": [
      "300\n",
      "300\n"
     ]
    }
   ],
   "source": [
    "#Example of Global Scope\n",
    "x = 300\n",
    "\n",
    "def myfunc():\n",
    "  print(x)\n",
    "\n",
    "myfunc()\n",
    "\n",
    "print(x)"
   ]
  },
  {
   "cell_type": "code",
   "execution_count": null,
   "id": "0328e0e3",
   "metadata": {},
   "outputs": [],
   "source": [
    "6. What happens to variables in a local scope when the function call returns?\n",
    "\n",
    "ANS: When a function returns, the local scope is destroyed, and all the variables in it are forgotten. A local \n",
    "    variable becomes undefined after the function call completes."
   ]
  },
  {
   "cell_type": "code",
   "execution_count": null,
   "id": "8ba3e099",
   "metadata": {},
   "outputs": [],
   "source": [
    "7. What is the concept of a return value? Is it possible to have a return value in an expression?\n",
    "\n",
    "ANS:  The Python return statement is a key component of functions and methods. We can use the return statement to make \n",
    "      functions send Python objects back to the caller code. These objects are known as the function’s return value. A return \n",
    "      value is the value that a function call evaluates to. Like any value, a return value can be used as part of an expression."
   ]
  },
  {
   "cell_type": "code",
   "execution_count": null,
   "id": "90981aca",
   "metadata": {},
   "outputs": [],
   "source": [
    "8. If a function does not have a return statement, what is the return value of a call to that function?\n",
    "\n",
    "ANS: If there is no return statement for a function, its return value is None. The function always returns None if \n",
    "     explicit return is not written."
   ]
  },
  {
   "cell_type": "code",
   "execution_count": null,
   "id": "1ccf27ac",
   "metadata": {},
   "outputs": [],
   "source": [
    "9. How do you make a function variable refer to the global variable?\n",
    "\n",
    "ANS: A global statement will force a variable in a function to refer to the global variable. If you want to refer to \n",
    "    a global variable in a function, you can use the global keyword to declare which variables are global."
   ]
  },
  {
   "cell_type": "code",
   "execution_count": null,
   "id": "22c4b2ea",
   "metadata": {},
   "outputs": [],
   "source": [
    "10. What is the data type of None?\n",
    "\n",
    "ANS: The data type of None is NoneType."
   ]
  },
  {
   "cell_type": "code",
   "execution_count": null,
   "id": "d6c4aeeb",
   "metadata": {},
   "outputs": [],
   "source": [
    "11. What does the sentence import areallyourpetsnamederic do?\n",
    "\n",
    "ANS: That import statement imports a module named areallyourpetsnamederic."
   ]
  },
  {
   "cell_type": "code",
   "execution_count": null,
   "id": "96dc1964",
   "metadata": {},
   "outputs": [],
   "source": [
    "12. If you had a bacon() feature in a spam module, what would you call it after importing spam?\n",
    "\n",
    "ANS: This function can be called with spam.bacon()."
   ]
  },
  {
   "cell_type": "code",
   "execution_count": null,
   "id": "f318e957",
   "metadata": {},
   "outputs": [],
   "source": [
    "13. What can you do to save a programme from crashing if it encounters an error?\n",
    "\n",
    "ANS: We can place the line of code that might cause an error in a try clause and use except block to handle the error as \n",
    "    mentioned below:"
   ]
  },
  {
   "cell_type": "code",
   "execution_count": 7,
   "id": "b5c85b0a",
   "metadata": {},
   "outputs": [
    {
     "name": "stdout",
     "output_type": "stream",
     "text": [
      "300\n"
     ]
    }
   ],
   "source": [
    "try:\n",
    "  print(x)\n",
    "except:\n",
    "  print(\"An exception occurred\") "
   ]
  },
  {
   "cell_type": "code",
   "execution_count": null,
   "id": "dbbfa66b",
   "metadata": {},
   "outputs": [],
   "source": [
    "14. What is the purpose of the try clause? What is the purpose of the except clause?\n",
    "\n",
    "ANS: The code that could potentially cause an error goes in the try clause. The code that executes if an error happens \n",
    "    goes in the except clause."
   ]
  },
  {
   "cell_type": "code",
   "execution_count": 8,
   "id": "971e27ec",
   "metadata": {},
   "outputs": [
    {
     "name": "stdout",
     "output_type": "stream",
     "text": [
      "700\n"
     ]
    }
   ],
   "source": [
    "x = 700\n",
    "try:\n",
    "  print(x)\n",
    "except NameError:\n",
    "  print(\"Variable x is not defined\")\n",
    "except:\n",
    "  print(\"Something else went wrong\") "
   ]
  },
  {
   "cell_type": "code",
   "execution_count": null,
   "id": "58065c66",
   "metadata": {},
   "outputs": [],
   "source": []
  }
 ],
 "metadata": {
  "kernelspec": {
   "display_name": "Python 3 (ipykernel)",
   "language": "python",
   "name": "python3"
  },
  "language_info": {
   "codemirror_mode": {
    "name": "ipython",
    "version": 3
   },
   "file_extension": ".py",
   "mimetype": "text/x-python",
   "name": "python",
   "nbconvert_exporter": "python",
   "pygments_lexer": "ipython3",
   "version": "3.9.7"
  }
 },
 "nbformat": 4,
 "nbformat_minor": 5
}
