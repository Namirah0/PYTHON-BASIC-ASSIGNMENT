{
 "cells": [
  {
   "cell_type": "code",
   "execution_count": null,
   "id": "a0a3b651",
   "metadata": {},
   "outputs": [],
   "source": [
    "1. In the below elements which of them are values or an expression? eg:- values can be\n",
    "integer or string and expressions will be mathematical operators.\n",
    "\n",
    "*,'hello', -87.8,-,/,+,6\n",
    "\n",
    "ANS:  There are a total of 4 Operators and 3 Expressions, They are:\n",
    "OPERATORS: *,-,/,+\n",
    "EXPRESSIONS: 'hello', 87.8, 6"
   ]
  },
  {
   "cell_type": "code",
   "execution_count": null,
   "id": "f80098a4",
   "metadata": {},
   "outputs": [],
   "source": [
    "2. What is the difference between string and variable?\n",
    "\n",
    "ANS: A String is a group of characters or a single character usually enclosed in Double quotes \" \" or single \n",
    "    quotes ' '. Even triple quotes can be used in Python but generally used to represent multiline strings and docstrings. \n",
    "    Example: my_string = 'Hello'\n",
    "        \n",
    "    A Variable is used to store of information, and a String is a type of information you would store in a Variable. \n",
    "    A variable is created the moment you first assign a value to it. Example: x = 6, y = \"Ash\". Here x and y are variables."
   ]
  },
  {
   "cell_type": "code",
   "execution_count": null,
   "id": "91d8e841",
   "metadata": {},
   "outputs": [],
   "source": [
    "3. Describe three different data types.\n",
    "\n",
    "ANS: Three fundamental Data types in python are int, float, complex.\n",
    "    \n",
    "a.int data type: We can use int data type to represent whole numbers (integral values) Example: int_num=100\n",
    "b.float data type: We can use float data type to represent floating point values (decimal values) Example: flo_num=1.3e3\n",
    "c.complex data type: Complex number is represented by complex class. It is specified as \n",
    "    (real part) + (imaginary part)j.Example: com_num=10+3.5j"
   ]
  },
  {
   "cell_type": "code",
   "execution_count": null,
   "id": "80d44360",
   "metadata": {},
   "outputs": [],
   "source": [
    "4. What is an expression made up of? What do all expressions do\n",
    "\n",
    "ANS:  An expression is a combination of values, variables, operators, and calls to functions. Expressions need to be \n",
    "    evaluated. If we ask Python to print an expression, the interpreter evaluates the expression and displays the result.\n",
    "    An expression is evaluated as per the precedence of its operators. So that if there is more than one operator in an \n",
    "    expression, their precedence decides which operation will be performed first."
   ]
  },
  {
   "cell_type": "code",
   "execution_count": 3,
   "id": "36d04c51",
   "metadata": {},
   "outputs": [
    {
     "data": {
      "text/plain": [
       "20"
      ]
     },
     "execution_count": 3,
     "metadata": {},
     "output_type": "execute_result"
    }
   ],
   "source": [
    "5*4+50-50 # Is an Expression, The Python Interpreter Evaluates it to 20"
   ]
  },
  {
   "cell_type": "code",
   "execution_count": null,
   "id": "012c557d",
   "metadata": {},
   "outputs": [],
   "source": [
    "5. This assignment statements, like spam = 10. What is the difference between an\n",
    "expression and a statement?\n",
    "\n",
    "ANS: An expression is a combination of values, variables, and operators.When we type an expression at the prompt, \n",
    "    the interpreter evaluates it, which means that it finds the value of the expression.An expression is evaluated as\n",
    "    per the precedence of its operators. So that if there is more than one operator in an expression, their precedence \n",
    "    decides which operation will be performed first.\n",
    "    \n",
    "    eg: 5*4+50-50 is an example of a expression\n",
    "        \n",
    "    A statement is a unit of code that has an effect, like creating a variable or displaying a value.\n",
    "    When we type a statement, the interpreter executes it, which means that it does whatever the statement says. \n",
    "    In general, statements don’t have values. A statement is an instruction that a Python interpreter can execute. \n",
    "    There are mainly four types of statements in Python, Print statements, Assignment statements, Conditional statements \n",
    "    and Looping statements.\n",
    "    \n",
    "    eg: courseName = 'Wow!! I am going to be a data scientist', spam = 10"
   ]
  },
  {
   "cell_type": "code",
   "execution_count": 9,
   "id": "69478e21",
   "metadata": {},
   "outputs": [
    {
     "name": "stdout",
     "output_type": "stream",
     "text": [
      "iNeuron\n"
     ]
    }
   ],
   "source": [
    "#Example:\n",
    "5*4+50-50 # Is a Expression\n",
    "courseName = 'Wow!! I am going to be a data scientist' # Is a Statement\n",
    "print(\"iNeuron\") # Is a Expression Statement\n"
   ]
  },
  {
   "cell_type": "code",
   "execution_count": null,
   "id": "57a761cf",
   "metadata": {},
   "outputs": [],
   "source": [
    "6. After running the following code, what does the variable bacon contain?\n",
    "bacon = 22\n",
    "bacon + 1\n",
    "\n",
    "ANS:  The variable bacon is set to 22 .The expression bacon + 1 does not reassign the value in bacon \n",
    "    (that would the case if the expression is like bacon = bacon + 1 instead of bacon + 1)"
   ]
  },
  {
   "cell_type": "code",
   "execution_count": 6,
   "id": "f3cb7eef",
   "metadata": {},
   "outputs": [
    {
     "name": "stdout",
     "output_type": "stream",
     "text": [
      "22\n"
     ]
    }
   ],
   "source": [
    "# Example Case#1\n",
    "bacon=22\n",
    "bacon + 1\n",
    "print(bacon)"
   ]
  },
  {
   "cell_type": "code",
   "execution_count": 7,
   "id": "e5c16bc7",
   "metadata": {},
   "outputs": [
    {
     "name": "stdout",
     "output_type": "stream",
     "text": [
      "23\n"
     ]
    }
   ],
   "source": [
    "#Example Case#2\n",
    "bacon=22\n",
    "bacon=bacon+1 \n",
    "print(bacon)"
   ]
  },
  {
   "cell_type": "code",
   "execution_count": null,
   "id": "25e389a6",
   "metadata": {},
   "outputs": [],
   "source": [
    "7. What should the values of the following two terms be?\n",
    'spam' + 'spamspam',
    'spam' * 3,
    "\n",
    "ANS: Both expressions evaluate to the string 'spamspamspam' Where as the first expression follows String Concatentation and \n",
    "    the second expression follows String Multiplication"
   ]
  },
  {
   "cell_type": "code",
   "execution_count": 8,
   "id": "9b86a6a4",
   "metadata": {},
   "outputs": [
    {
     "name": "stdout",
     "output_type": "stream",
     "text": [
      "spamspamspam\n",
      "spamspamspam\n"
     ]
    }
   ],
   "source": [
    "print('spam'+'spamspam') # string concatenation\n",
    "print('spam'*3) # string multiplication"
   ]
  },
  {
   "cell_type": "code",
   "execution_count": null,
   "id": "ccc85120",
   "metadata": {},
   "outputs": [],
   "source": [
    "8. Why is eggs a valid variable name while 100 is invalid?\n",
    "\n",
    "ANS: As per python,Variable names cannot begin with a number. The python rules for naming a variable are :-\n",
    "        a.Variable name must start with a letter or the underscore character.\n",
    "        b.Variable name cannot start with a number.\n",
    "        c.Variable name can only contain alpha-numeric characters and underscores (A-z, 0-9, & _ ).\n",
    "        d.Variable names are case-sensitive (name, GAURAV and gaurav are three different variables).\n",
    "        e.The reserved words(keywords) cannot be used naming the variable."
   ]
  },
  {
   "cell_type": "code",
   "execution_count": 10,
   "id": "37273fde",
   "metadata": {},
   "outputs": [
    {
     "ename": "SyntaxError",
     "evalue": "cannot assign to literal (Temp/ipykernel_2664/3605587503.py, line 2)",
     "output_type": "error",
     "traceback": [
      "\u001b[1;36m  File \u001b[1;32m\"C:\\Users\\bewna\\AppData\\Local\\Temp/ipykernel_2664/3605587503.py\"\u001b[1;36m, line \u001b[1;32m2\u001b[0m\n\u001b[1;33m    100='heya' # Invalid Variable Initilization\u001b[0m\n\u001b[1;37m    ^\u001b[0m\n\u001b[1;31mSyntaxError\u001b[0m\u001b[1;31m:\u001b[0m cannot assign to literal\n"
     ]
    }
   ],
   "source": [
    "egg='Namirah' # Valid variable Initilization\n",
    "100='heya' # Invalid Variable Initilization\n",
    "print(egg) #prints the value of egg ie Ineuron\n",
    "print(100) # Raises a Syntax Error as 100 is not a valid variable name"
   ]
  },
  {
   "cell_type": "code",
   "execution_count": null,
   "id": "21db0fc3",
   "metadata": {},
   "outputs": [],
   "source": [
    "9. What three functions can be used to get the integer, floating-point number, or string,
    "version of a value?",
    "ANS:  The int(),float(),and str() functions will evaluate to the integer,floating-point number,string version of\n",
    "    the value passed to them."
   ]
  },
  {
   "cell_type": "code",
   "execution_count": 11,
   "id": "ac59cd7f",
   "metadata": {},
   "outputs": [
    {
     "name": "stdout",
     "output_type": "stream",
     "text": [
      "int(10.0) ->  10\n",
      "float(10) ->  10.0\n",
      "str(10) ->  10\n"
     ]
    }
   ],
   "source": [
    "# Examples:\n",
    "print('int(10.0) -> ',int(10.0)) # int() function converts given input to int\n",
    "print('float(10) -> ',float(10)) # float() function converts given input to float\n",
    "print('str(10) -> ',str(10)) # str() function converts given input to string"
   ]
  },
  {
   "cell_type": "code",
   "execution_count": null,
   "id": "b3541bd8",
   "metadata": {},
   "outputs": [],
   "source": [
    "10. Why does this expression cause an error? How can you fix it?",
    'I have eaten' + 99 + 'burritos',
    "\n",
    "ANS: This cause of error is 99.because 99 is not a string. 99 must be typecasted to a string to fix this error. \n",
    "    The correct way of representing is mentioned below:\n",
    "    Input: 'I have eaten ' + str(99) + 'burritos.'\n",
    "    Output: 'I have eaten 99 burritos."
   ]
  },
  {
   "cell_type": "code",
   "execution_count": 12,
   "id": "dd31c61f",
   "metadata": {},
   "outputs": [
    {
     "name": "stdout",
     "output_type": "stream",
     "text": [
      "I have eaten 99 burritos\n"
     ]
    }
   ],
   "source": [
    "print('I have eaten '+str(99)+' burritos')"
   ]
  },
  {
   "cell_type": "code",
   "execution_count": null,
   "id": "5e9d3142",
   "metadata": {},
   "outputs": [],
   "source": []
  }
 ],
 "metadata": {
  "kernelspec": {
   "display_name": "Python 3 (ipykernel)",
   "language": "python",
   "name": "python3"
  },
  "language_info": {
   "codemirror_mode": {
    "name": "ipython",
    "version": 3
   },
   "file_extension": ".py",
   "mimetype": "text/x-python",
   "name": "python",
   "nbconvert_exporter": "python",
   "pygments_lexer": "ipython3",
   "version": "3.9.7"
  }
 },
 "nbformat": 4,
 "nbformat_minor": 5
}
