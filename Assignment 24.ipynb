{
 "cells": [
  {
   "cell_type": "code",
   "execution_count": null,
   "id": "8935ec1c",
   "metadata": {},
   "outputs": [],
   "source": [
    "1. What is the relationship between def statements and lambda expressions ?\n",
    "\n",
    "ANS: def statement is used to create a normal function whereas lambda expressions are used to create Anonymous functions \n",
    "    which can be assigned to a variable and can be called using the variable later in function.\n",
    "\n",
    "Lambda's body is a single expression and not a block of statements like def statement. The lambda expression's body is \n",
    "similar to what we wouldd put in a def body's return statement. We simply type the result as an expression instead of \n",
    "explicitly returning it. Because it is limited to an expression, a lambda is less general than a def statement.\n",
    "\n",
    "Example of Lambda Function is shown below:"
   ]
  },
  {
   "cell_type": "code",
   "execution_count": 1,
   "id": "030155d5",
   "metadata": {},
   "outputs": [
    {
     "name": "stdout",
     "output_type": "stream",
     "text": [
      "13\n"
     ]
    }
   ],
   "source": [
    "x = lambda a, b, c : a + b + c\n",
    "print(x(5, 6, 2)) "
   ]
  },
  {
   "cell_type": "code",
   "execution_count": null,
   "id": "7015ad40",
   "metadata": {},
   "outputs": [],
   "source": [
    "2. What is the benefit of lambda?\n",
    "\n",
    "ANS: The following are some of the benefits of lambda expressions:\n",
    "\n",
    "a.It can be used to create Nameless/Anonymous functions inside some complex functions if we are planning to use it only once.\n",
    "b.Moderate to small functions can be created in a single line\n",
    "c.Fuctions created using lambda expressions can be assigned to a variable and can be used by simply calling the variable"
   ]
  },
  {
   "cell_type": "code",
   "execution_count": null,
   "id": "82c6b17f",
   "metadata": {},
   "outputs": [],
   "source": [
    "3. Compare and contrast map, filter, and reduce.\n",
    "\n",
    "ANS: The differences between map, filter and reduce are:\n",
    "\n",
    "a.map(): The map() function is a type of higher-order. This function takes another function as a parameter along with a \n",
    "    sequence of iterables and returns an output after applying the function to each iterable present in the sequence.\n",
    "b.filter(): The filter() function is used to create an output list consisting of values for which the function returns true.\n",
    "c.reduce(): The reduce() function, as the name describes, applies a given function to the iterables and returns a single value"
   ]
  },
  {
   "cell_type": "code",
   "execution_count": 2,
   "id": "fc1c2188",
   "metadata": {},
   "outputs": [
    {
     "name": "stdout",
     "output_type": "stream",
     "text": [
      "Map -> [2, 4, 6, 16]\n",
      "Filter -> [1, 3, 9]\n",
      "Reduce -> 22\n"
     ]
    }
   ],
   "source": [
    "from functools import reduce\n",
    "# map function\n",
    "print('Map ->',list(map(lambda x:x+x, [1,2,3,8])))\n",
    "# fitler function\n",
    "print('Filter ->',list(filter(lambda x:x%2 !=0, [1,2,3,9])))\n",
    "# reduce function\n",
    "print('Reduce ->',reduce(lambda x,y:x+y, [1,2,3,4,5,7]))"
   ]
  },
  {
   "cell_type": "code",
   "execution_count": null,
   "id": "d8c00630",
   "metadata": {},
   "outputs": [],
   "source": [
    "4. What are function annotations, and how are they used?\n",
    "\n",
    "ANS: Function annotations provide a way of associating various parts of a function with arbitrary python expressions \n",
    "    at compile time.\n",
    "Annotations of simple parameters def func(x: expression, y: expression = 20):\n",
    "Whereas the annotations for excess parameters are as − def func (**args: expression, **kwargs: expression):\n",
    "\n",
    "Purpose of Function Annotations:\n",
    "a.Python supports dynamic typing and hence no module is provided for type checking.\n",
    "b.String based annotations can be used by the libraries to provide better help messages at compile time regarding the \n",
    "functionalities of various methods, classes and modules.\n",
    "\n",
    "Example of Annotations:\n",
    "\n",
    "a.Annotations for simple parameters : def foo(a: expression, b: expression = 5):\n",
    "b.Annotations for excess parameters : def foo(args: expression, kwargs: expression):\n",
    "c.Annotations for nested parameters : def foo((a: expression, b: expression), (c: expression, d: expression)):"
   ]
  },
  {
   "cell_type": "code",
   "execution_count": null,
   "id": "4ac85066",
   "metadata": {},
   "outputs": [],
   "source": [
    "5. What are recursive functions, and how are they used?\n",
    "\n",
    "ANS: A recursive function is a function that calls itself during its execution. The process may repeat several times, \n",
    "    outputting the result and the end of each iteration. An example is mentioned below:"
   ]
  },
  {
   "cell_type": "code",
   "execution_count": 3,
   "id": "81290340",
   "metadata": {},
   "outputs": [
    {
     "name": "stdout",
     "output_type": "stream",
     "text": [
      "\n",
      "\n",
      "Recursion Example Results\n",
      "1\n",
      "3\n",
      "6\n",
      "10\n",
      "15\n",
      "21\n",
      "28\n",
      "36\n",
      "45\n"
     ]
    },
    {
     "data": {
      "text/plain": [
       "45"
      ]
     },
     "execution_count": 3,
     "metadata": {},
     "output_type": "execute_result"
    }
   ],
   "source": [
    "def tri_recursion(k):\n",
    "  if(k>0):\n",
    "    result = k+tri_recursion(k-1)\n",
    "    print(result)\n",
    "  else:\n",
    "    result = 0\n",
    "  return result\n",
    "\n",
    "print(\"\\n\\nRecursion Example Results\")\n",
    "tri_recursion(9)"
   ]
  },
  {
   "cell_type": "code",
   "execution_count": null,
   "id": "88ff0e28",
   "metadata": {},
   "outputs": [],
   "source": [
    "6. What are some general design guidelines for coding functions\n",
    "\n",
    "ANS: Some of the general design guidelines for coding functions are:\n",
    "\n",
    "a.Always use a docstring to explain the functionality of the function\n",
    "b.Avoid using or limit use of global variables\n",
    "c.Proper Indentation to increase the code readability\n",
    "d.Try to follow a proper naming convention for function names (pascalCase or camelCase) and stick with the same convention\n",
    "throughout the application.\n",
    "e.Avoid using digits while choosing a variable name\n",
    "f.Try to use a name for the function which conveys the purpose of the function\n",
    "g.Local variables should be named using camelCase format (ex: localVariable) whereas Global variables names should be using\n",
    "PascalCase (ex:GlobalVariable).\n",
    "h.Constant should be represented in allcaps (ex:CONSTANT)."
   ]
  },
  {
   "cell_type": "code",
   "execution_count": null,
   "id": "7a27f600",
   "metadata": {},
   "outputs": [],
   "source": [
    "7. Name three or more ways that functions can communicate results to a caller.\n",
    "\n",
    "ANS:  Some of the ways in which a function can communicate with the calling function is:\n",
    "\n",
    "A.print\n",
    "B.return\n",
    "C.yield"
   ]
  }
 ],
 "metadata": {
  "kernelspec": {
   "display_name": "Python 3 (ipykernel)",
   "language": "python",
   "name": "python3"
  },
  "language_info": {
   "codemirror_mode": {
    "name": "ipython",
    "version": 3
   },
   "file_extension": ".py",
   "mimetype": "text/x-python",
   "name": "python",
   "nbconvert_exporter": "python",
   "pygments_lexer": "ipython3",
   "version": "3.9.7"
  }
 },
 "nbformat": 4,
 "nbformat_minor": 5
}
